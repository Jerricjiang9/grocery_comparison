{
 "cells": [
  {
   "cell_type": "code",
   "execution_count": 20,
   "id": "2b96ab5b-0d92-42a5-9fc4-a5df6d1480c6",
   "metadata": {},
   "outputs": [],
   "source": [
    "from selenium import webdriver\n",
    "from selenium.webdriver.chrome.options import Options\n",
    "from selenium.webdriver.common.by import By\n",
    "from selenium.webdriver.support.ui import WebDriverWait\n",
    "from selenium.webdriver.support import expected_conditions as EC\n",
    "import pandas as pd\n",
    "import time"
   ]
  },
  {
   "cell_type": "code",
   "execution_count": 40,
   "id": "4fba6e2c-51bf-4c10-abdc-243a79578c34",
   "metadata": {},
   "outputs": [],
   "source": [
    "home_url = \"https://www.aldi.us\"\n",
    "category_url = \"https://www.aldi.us/products/snacks/chips-crackers-popcorn/k/127\"\n",
    "\n",
    "# Setup\n",
    "options = Options()\n",
    "# options.add_argument(\"--headless\")  # Turn on after debugging\n",
    "options.add_argument(\"--window-size=1920,1080\")\n",
    "\n",
    "driver = webdriver.Chrome(options=options)\n",
    "wait = WebDriverWait(driver, 15)"
   ]
  },
  {
   "cell_type": "code",
   "execution_count": 41,
   "id": "dc0247dd-3211-4410-a13d-90e7766558bd",
   "metadata": {},
   "outputs": [],
   "source": [
    "driver.get(home_url)"
   ]
  },
  {
   "cell_type": "code",
   "execution_count": 42,
   "id": "7240ca8f-68e9-4ea3-be61-ee0beda9513e",
   "metadata": {},
   "outputs": [],
   "source": [
    "time.sleep(3)\n",
    "driver.get(category_url)"
   ]
  },
  {
   "cell_type": "code",
   "execution_count": 43,
   "id": "9794fbf6-7b34-47fc-9e9e-e6647d49620f",
   "metadata": {},
   "outputs": [
    {
     "data": {
      "text/plain": [
       "[<selenium.webdriver.remote.webelement.WebElement (session=\"90195ca3b3eb6f5512b6ffa6381d24b2\", element=\"f.F3ABA6BB89A8C04BB98FCD6E00E857A4.d.21329FE244AED99C63D8D56DEC93611A.e.123\")>,\n",
       " <selenium.webdriver.remote.webelement.WebElement (session=\"90195ca3b3eb6f5512b6ffa6381d24b2\", element=\"f.F3ABA6BB89A8C04BB98FCD6E00E857A4.d.21329FE244AED99C63D8D56DEC93611A.e.124\")>,\n",
       " <selenium.webdriver.remote.webelement.WebElement (session=\"90195ca3b3eb6f5512b6ffa6381d24b2\", element=\"f.F3ABA6BB89A8C04BB98FCD6E00E857A4.d.21329FE244AED99C63D8D56DEC93611A.e.125\")>,\n",
       " <selenium.webdriver.remote.webelement.WebElement (session=\"90195ca3b3eb6f5512b6ffa6381d24b2\", element=\"f.F3ABA6BB89A8C04BB98FCD6E00E857A4.d.21329FE244AED99C63D8D56DEC93611A.e.126\")>,\n",
       " <selenium.webdriver.remote.webelement.WebElement (session=\"90195ca3b3eb6f5512b6ffa6381d24b2\", element=\"f.F3ABA6BB89A8C04BB98FCD6E00E857A4.d.21329FE244AED99C63D8D56DEC93611A.e.127\")>,\n",
       " <selenium.webdriver.remote.webelement.WebElement (session=\"90195ca3b3eb6f5512b6ffa6381d24b2\", element=\"f.F3ABA6BB89A8C04BB98FCD6E00E857A4.d.21329FE244AED99C63D8D56DEC93611A.e.131\")>,\n",
       " <selenium.webdriver.remote.webelement.WebElement (session=\"90195ca3b3eb6f5512b6ffa6381d24b2\", element=\"f.F3ABA6BB89A8C04BB98FCD6E00E857A4.d.21329FE244AED99C63D8D56DEC93611A.e.132\")>,\n",
       " <selenium.webdriver.remote.webelement.WebElement (session=\"90195ca3b3eb6f5512b6ffa6381d24b2\", element=\"f.F3ABA6BB89A8C04BB98FCD6E00E857A4.d.21329FE244AED99C63D8D56DEC93611A.e.133\")>,\n",
       " <selenium.webdriver.remote.webelement.WebElement (session=\"90195ca3b3eb6f5512b6ffa6381d24b2\", element=\"f.F3ABA6BB89A8C04BB98FCD6E00E857A4.d.21329FE244AED99C63D8D56DEC93611A.e.134\")>,\n",
       " <selenium.webdriver.remote.webelement.WebElement (session=\"90195ca3b3eb6f5512b6ffa6381d24b2\", element=\"f.F3ABA6BB89A8C04BB98FCD6E00E857A4.d.21329FE244AED99C63D8D56DEC93611A.e.135\")>,\n",
       " <selenium.webdriver.remote.webelement.WebElement (session=\"90195ca3b3eb6f5512b6ffa6381d24b2\", element=\"f.F3ABA6BB89A8C04BB98FCD6E00E857A4.d.21329FE244AED99C63D8D56DEC93611A.e.136\")>,\n",
       " <selenium.webdriver.remote.webelement.WebElement (session=\"90195ca3b3eb6f5512b6ffa6381d24b2\", element=\"f.F3ABA6BB89A8C04BB98FCD6E00E857A4.d.21329FE244AED99C63D8D56DEC93611A.e.137\")>,\n",
       " <selenium.webdriver.remote.webelement.WebElement (session=\"90195ca3b3eb6f5512b6ffa6381d24b2\", element=\"f.F3ABA6BB89A8C04BB98FCD6E00E857A4.d.21329FE244AED99C63D8D56DEC93611A.e.138\")>,\n",
       " <selenium.webdriver.remote.webelement.WebElement (session=\"90195ca3b3eb6f5512b6ffa6381d24b2\", element=\"f.F3ABA6BB89A8C04BB98FCD6E00E857A4.d.21329FE244AED99C63D8D56DEC93611A.e.139\")>,\n",
       " <selenium.webdriver.remote.webelement.WebElement (session=\"90195ca3b3eb6f5512b6ffa6381d24b2\", element=\"f.F3ABA6BB89A8C04BB98FCD6E00E857A4.d.21329FE244AED99C63D8D56DEC93611A.e.140\")>,\n",
       " <selenium.webdriver.remote.webelement.WebElement (session=\"90195ca3b3eb6f5512b6ffa6381d24b2\", element=\"f.F3ABA6BB89A8C04BB98FCD6E00E857A4.d.21329FE244AED99C63D8D56DEC93611A.e.141\")>,\n",
       " <selenium.webdriver.remote.webelement.WebElement (session=\"90195ca3b3eb6f5512b6ffa6381d24b2\", element=\"f.F3ABA6BB89A8C04BB98FCD6E00E857A4.d.21329FE244AED99C63D8D56DEC93611A.e.142\")>,\n",
       " <selenium.webdriver.remote.webelement.WebElement (session=\"90195ca3b3eb6f5512b6ffa6381d24b2\", element=\"f.F3ABA6BB89A8C04BB98FCD6E00E857A4.d.21329FE244AED99C63D8D56DEC93611A.e.143\")>,\n",
       " <selenium.webdriver.remote.webelement.WebElement (session=\"90195ca3b3eb6f5512b6ffa6381d24b2\", element=\"f.F3ABA6BB89A8C04BB98FCD6E00E857A4.d.21329FE244AED99C63D8D56DEC93611A.e.144\")>,\n",
       " <selenium.webdriver.remote.webelement.WebElement (session=\"90195ca3b3eb6f5512b6ffa6381d24b2\", element=\"f.F3ABA6BB89A8C04BB98FCD6E00E857A4.d.21329FE244AED99C63D8D56DEC93611A.e.145\")>,\n",
       " <selenium.webdriver.remote.webelement.WebElement (session=\"90195ca3b3eb6f5512b6ffa6381d24b2\", element=\"f.F3ABA6BB89A8C04BB98FCD6E00E857A4.d.21329FE244AED99C63D8D56DEC93611A.e.146\")>,\n",
       " <selenium.webdriver.remote.webelement.WebElement (session=\"90195ca3b3eb6f5512b6ffa6381d24b2\", element=\"f.F3ABA6BB89A8C04BB98FCD6E00E857A4.d.21329FE244AED99C63D8D56DEC93611A.e.147\")>,\n",
       " <selenium.webdriver.remote.webelement.WebElement (session=\"90195ca3b3eb6f5512b6ffa6381d24b2\", element=\"f.F3ABA6BB89A8C04BB98FCD6E00E857A4.d.21329FE244AED99C63D8D56DEC93611A.e.148\")>,\n",
       " <selenium.webdriver.remote.webelement.WebElement (session=\"90195ca3b3eb6f5512b6ffa6381d24b2\", element=\"f.F3ABA6BB89A8C04BB98FCD6E00E857A4.d.21329FE244AED99C63D8D56DEC93611A.e.149\")>,\n",
       " <selenium.webdriver.remote.webelement.WebElement (session=\"90195ca3b3eb6f5512b6ffa6381d24b2\", element=\"f.F3ABA6BB89A8C04BB98FCD6E00E857A4.d.21329FE244AED99C63D8D56DEC93611A.e.150\")>,\n",
       " <selenium.webdriver.remote.webelement.WebElement (session=\"90195ca3b3eb6f5512b6ffa6381d24b2\", element=\"f.F3ABA6BB89A8C04BB98FCD6E00E857A4.d.21329FE244AED99C63D8D56DEC93611A.e.151\")>,\n",
       " <selenium.webdriver.remote.webelement.WebElement (session=\"90195ca3b3eb6f5512b6ffa6381d24b2\", element=\"f.F3ABA6BB89A8C04BB98FCD6E00E857A4.d.21329FE244AED99C63D8D56DEC93611A.e.152\")>,\n",
       " <selenium.webdriver.remote.webelement.WebElement (session=\"90195ca3b3eb6f5512b6ffa6381d24b2\", element=\"f.F3ABA6BB89A8C04BB98FCD6E00E857A4.d.21329FE244AED99C63D8D56DEC93611A.e.153\")>,\n",
       " <selenium.webdriver.remote.webelement.WebElement (session=\"90195ca3b3eb6f5512b6ffa6381d24b2\", element=\"f.F3ABA6BB89A8C04BB98FCD6E00E857A4.d.21329FE244AED99C63D8D56DEC93611A.e.154\")>,\n",
       " <selenium.webdriver.remote.webelement.WebElement (session=\"90195ca3b3eb6f5512b6ffa6381d24b2\", element=\"f.F3ABA6BB89A8C04BB98FCD6E00E857A4.d.21329FE244AED99C63D8D56DEC93611A.e.155\")>,\n",
       " <selenium.webdriver.remote.webelement.WebElement (session=\"90195ca3b3eb6f5512b6ffa6381d24b2\", element=\"f.F3ABA6BB89A8C04BB98FCD6E00E857A4.d.21329FE244AED99C63D8D56DEC93611A.e.156\")>,\n",
       " <selenium.webdriver.remote.webelement.WebElement (session=\"90195ca3b3eb6f5512b6ffa6381d24b2\", element=\"f.F3ABA6BB89A8C04BB98FCD6E00E857A4.d.21329FE244AED99C63D8D56DEC93611A.e.157\")>,\n",
       " <selenium.webdriver.remote.webelement.WebElement (session=\"90195ca3b3eb6f5512b6ffa6381d24b2\", element=\"f.F3ABA6BB89A8C04BB98FCD6E00E857A4.d.21329FE244AED99C63D8D56DEC93611A.e.158\")>,\n",
       " <selenium.webdriver.remote.webelement.WebElement (session=\"90195ca3b3eb6f5512b6ffa6381d24b2\", element=\"f.F3ABA6BB89A8C04BB98FCD6E00E857A4.d.21329FE244AED99C63D8D56DEC93611A.e.159\")>,\n",
       " <selenium.webdriver.remote.webelement.WebElement (session=\"90195ca3b3eb6f5512b6ffa6381d24b2\", element=\"f.F3ABA6BB89A8C04BB98FCD6E00E857A4.d.21329FE244AED99C63D8D56DEC93611A.e.160\")>,\n",
       " <selenium.webdriver.remote.webelement.WebElement (session=\"90195ca3b3eb6f5512b6ffa6381d24b2\", element=\"f.F3ABA6BB89A8C04BB98FCD6E00E857A4.d.21329FE244AED99C63D8D56DEC93611A.e.161\")>,\n",
       " <selenium.webdriver.remote.webelement.WebElement (session=\"90195ca3b3eb6f5512b6ffa6381d24b2\", element=\"f.F3ABA6BB89A8C04BB98FCD6E00E857A4.d.21329FE244AED99C63D8D56DEC93611A.e.162\")>,\n",
       " <selenium.webdriver.remote.webelement.WebElement (session=\"90195ca3b3eb6f5512b6ffa6381d24b2\", element=\"f.F3ABA6BB89A8C04BB98FCD6E00E857A4.d.21329FE244AED99C63D8D56DEC93611A.e.163\")>,\n",
       " <selenium.webdriver.remote.webelement.WebElement (session=\"90195ca3b3eb6f5512b6ffa6381d24b2\", element=\"f.F3ABA6BB89A8C04BB98FCD6E00E857A4.d.21329FE244AED99C63D8D56DEC93611A.e.164\")>,\n",
       " <selenium.webdriver.remote.webelement.WebElement (session=\"90195ca3b3eb6f5512b6ffa6381d24b2\", element=\"f.F3ABA6BB89A8C04BB98FCD6E00E857A4.d.21329FE244AED99C63D8D56DEC93611A.e.165\")>,\n",
       " <selenium.webdriver.remote.webelement.WebElement (session=\"90195ca3b3eb6f5512b6ffa6381d24b2\", element=\"f.F3ABA6BB89A8C04BB98FCD6E00E857A4.d.21329FE244AED99C63D8D56DEC93611A.e.166\")>,\n",
       " <selenium.webdriver.remote.webelement.WebElement (session=\"90195ca3b3eb6f5512b6ffa6381d24b2\", element=\"f.F3ABA6BB89A8C04BB98FCD6E00E857A4.d.21329FE244AED99C63D8D56DEC93611A.e.167\")>,\n",
       " <selenium.webdriver.remote.webelement.WebElement (session=\"90195ca3b3eb6f5512b6ffa6381d24b2\", element=\"f.F3ABA6BB89A8C04BB98FCD6E00E857A4.d.21329FE244AED99C63D8D56DEC93611A.e.168\")>,\n",
       " <selenium.webdriver.remote.webelement.WebElement (session=\"90195ca3b3eb6f5512b6ffa6381d24b2\", element=\"f.F3ABA6BB89A8C04BB98FCD6E00E857A4.d.21329FE244AED99C63D8D56DEC93611A.e.169\")>,\n",
       " <selenium.webdriver.remote.webelement.WebElement (session=\"90195ca3b3eb6f5512b6ffa6381d24b2\", element=\"f.F3ABA6BB89A8C04BB98FCD6E00E857A4.d.21329FE244AED99C63D8D56DEC93611A.e.170\")>,\n",
       " <selenium.webdriver.remote.webelement.WebElement (session=\"90195ca3b3eb6f5512b6ffa6381d24b2\", element=\"f.F3ABA6BB89A8C04BB98FCD6E00E857A4.d.21329FE244AED99C63D8D56DEC93611A.e.171\")>,\n",
       " <selenium.webdriver.remote.webelement.WebElement (session=\"90195ca3b3eb6f5512b6ffa6381d24b2\", element=\"f.F3ABA6BB89A8C04BB98FCD6E00E857A4.d.21329FE244AED99C63D8D56DEC93611A.e.172\")>,\n",
       " <selenium.webdriver.remote.webelement.WebElement (session=\"90195ca3b3eb6f5512b6ffa6381d24b2\", element=\"f.F3ABA6BB89A8C04BB98FCD6E00E857A4.d.21329FE244AED99C63D8D56DEC93611A.e.173\")>,\n",
       " <selenium.webdriver.remote.webelement.WebElement (session=\"90195ca3b3eb6f5512b6ffa6381d24b2\", element=\"f.F3ABA6BB89A8C04BB98FCD6E00E857A4.d.21329FE244AED99C63D8D56DEC93611A.e.174\")>,\n",
       " <selenium.webdriver.remote.webelement.WebElement (session=\"90195ca3b3eb6f5512b6ffa6381d24b2\", element=\"f.F3ABA6BB89A8C04BB98FCD6E00E857A4.d.21329FE244AED99C63D8D56DEC93611A.e.175\")>,\n",
       " <selenium.webdriver.remote.webelement.WebElement (session=\"90195ca3b3eb6f5512b6ffa6381d24b2\", element=\"f.F3ABA6BB89A8C04BB98FCD6E00E857A4.d.21329FE244AED99C63D8D56DEC93611A.e.176\")>,\n",
       " <selenium.webdriver.remote.webelement.WebElement (session=\"90195ca3b3eb6f5512b6ffa6381d24b2\", element=\"f.F3ABA6BB89A8C04BB98FCD6E00E857A4.d.21329FE244AED99C63D8D56DEC93611A.e.177\")>,\n",
       " <selenium.webdriver.remote.webelement.WebElement (session=\"90195ca3b3eb6f5512b6ffa6381d24b2\", element=\"f.F3ABA6BB89A8C04BB98FCD6E00E857A4.d.21329FE244AED99C63D8D56DEC93611A.e.178\")>,\n",
       " <selenium.webdriver.remote.webelement.WebElement (session=\"90195ca3b3eb6f5512b6ffa6381d24b2\", element=\"f.F3ABA6BB89A8C04BB98FCD6E00E857A4.d.21329FE244AED99C63D8D56DEC93611A.e.179\")>,\n",
       " <selenium.webdriver.remote.webelement.WebElement (session=\"90195ca3b3eb6f5512b6ffa6381d24b2\", element=\"f.F3ABA6BB89A8C04BB98FCD6E00E857A4.d.21329FE244AED99C63D8D56DEC93611A.e.180\")>,\n",
       " <selenium.webdriver.remote.webelement.WebElement (session=\"90195ca3b3eb6f5512b6ffa6381d24b2\", element=\"f.F3ABA6BB89A8C04BB98FCD6E00E857A4.d.21329FE244AED99C63D8D56DEC93611A.e.181\")>,\n",
       " <selenium.webdriver.remote.webelement.WebElement (session=\"90195ca3b3eb6f5512b6ffa6381d24b2\", element=\"f.F3ABA6BB89A8C04BB98FCD6E00E857A4.d.21329FE244AED99C63D8D56DEC93611A.e.182\")>,\n",
       " <selenium.webdriver.remote.webelement.WebElement (session=\"90195ca3b3eb6f5512b6ffa6381d24b2\", element=\"f.F3ABA6BB89A8C04BB98FCD6E00E857A4.d.21329FE244AED99C63D8D56DEC93611A.e.183\")>,\n",
       " <selenium.webdriver.remote.webelement.WebElement (session=\"90195ca3b3eb6f5512b6ffa6381d24b2\", element=\"f.F3ABA6BB89A8C04BB98FCD6E00E857A4.d.21329FE244AED99C63D8D56DEC93611A.e.184\")>,\n",
       " <selenium.webdriver.remote.webelement.WebElement (session=\"90195ca3b3eb6f5512b6ffa6381d24b2\", element=\"f.F3ABA6BB89A8C04BB98FCD6E00E857A4.d.21329FE244AED99C63D8D56DEC93611A.e.185\")>]"
      ]
     },
     "execution_count": 43,
     "metadata": {},
     "output_type": "execute_result"
    }
   ],
   "source": [
    "wait.until(EC.presence_of_all_elements_located((By.CSS_SELECTOR, \".product-tile\")))"
   ]
  },
  {
   "cell_type": "code",
   "execution_count": 44,
   "id": "2a969b8a-2174-426f-bde2-0ef7b71e7182",
   "metadata": {},
   "outputs": [
    {
     "name": "stdout",
     "output_type": "stream",
     "text": [
      "⏳ Waiting for products to load...\n",
      "✅ Products loaded\n"
     ]
    }
   ],
   "source": [
    "try:\n",
    "    print(\"⏳ Waiting for products to load...\")\n",
    "    wait.until(EC.presence_of_all_elements_located((By.CSS_SELECTOR, \".product-tile\")))\n",
    "    print(\"✅ Products loaded\")\n",
    "except Exception as e:\n",
    "    print(\"❌ Product tiles never appeared:\", e)\n",
    "    driver.quit()\n",
    "    exit()"
   ]
  },
  {
   "cell_type": "code",
   "execution_count": 45,
   "id": "df800471-dfb3-4b69-a93b-a2b07e1c3db9",
   "metadata": {},
   "outputs": [
    {
     "name": "stdout",
     "output_type": "stream",
     "text": [
      "Found 60 products.\n",
      "✅ Scraped and saved products.\n"
     ]
    }
   ],
   "source": [
    "try:\n",
    "    products = driver.find_elements(By.CSS_SELECTOR, \".product-tile\")\n",
    "    print(f\"Found {len(products)} products.\")\n",
    "\n",
    "    data = []\n",
    "    for i, p in enumerate(products):\n",
    "        try:\n",
    "            name = p.find_element(By.CSS_SELECTOR, \"div.product-tile__name > p\").text.strip()\n",
    "            price = p.find_element(By.CSS_SELECTOR, \"div.product-tile__price-container > span\").text.strip()\n",
    "            data.append({\"name\": name, \"price\": price})\n",
    "        except Exception as e:\n",
    "            print(f\"⚠️ Skipping product {i}: {e}\")\n",
    "\n",
    "\n",
    "    # Save\n",
    "    df = pd.DataFrame(data)\n",
    "    df.to_csv(\"aldi_scraped_products.csv\", index=False)\n",
    "    print(\"✅ Scraped and saved products.\")\n",
    "\n",
    "except Exception as e:\n",
    "    print(\"❌ Scraping crashed:\", e)\n",
    "\n",
    "driver.quit()\n"
   ]
  },
  {
   "cell_type": "code",
   "execution_count": null,
   "id": "0105c61d-a3e5-4e5e-89ab-276b20d27a2c",
   "metadata": {},
   "outputs": [],
   "source": []
  },
  {
   "cell_type": "code",
   "execution_count": null,
   "id": "f755abef-c129-44cc-a2ff-ad1248cb0de7",
   "metadata": {},
   "outputs": [],
   "source": []
  }
 ],
 "metadata": {
  "kernelspec": {
   "display_name": "Python 3.13",
   "language": "python",
   "name": "python313"
  },
  "language_info": {
   "codemirror_mode": {
    "name": "ipython",
    "version": 3
   },
   "file_extension": ".py",
   "mimetype": "text/x-python",
   "name": "python",
   "nbconvert_exporter": "python",
   "pygments_lexer": "ipython3",
   "version": "3.13.1"
  }
 },
 "nbformat": 4,
 "nbformat_minor": 5
}
