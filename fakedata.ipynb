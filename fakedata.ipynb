{
 "cells": [
  {
   "cell_type": "code",
   "execution_count": 1,
   "id": "e1397423-ae3a-4218-b888-678fa0878e88",
   "metadata": {},
   "outputs": [],
   "source": [
    "import numpy as np\n",
    "import pandas as pd"
   ]
  },
  {
   "cell_type": "code",
   "execution_count": 2,
   "id": "e856c2d1-ef74-4bac-b32c-3af978611aa6",
   "metadata": {},
   "outputs": [],
   "source": [
    "def clean(text):\n",
    "    return text.lower().strip()\n",
    "\n",
    "def find_cheapest_match(user_item, store_items):\n",
    "    user_item = clean(user_item)\n",
    "    matches = [\n",
    "        item for item in store_items\n",
    "        if user_item in clean(item['name'])\n",
    "    ]\n",
    "    if not matches:\n",
    "        return None\n",
    "    return min(matches, key=lambda x: x['price'])"
   ]
  },
  {
   "cell_type": "code",
   "execution_count": 3,
   "id": "97bf8d61-367f-4b17-970d-f5847fb5d616",
   "metadata": {},
   "outputs": [],
   "source": [
    "def compare_totals(user_list, scraped_data):\n",
    "    totals = {}\n",
    "    for store, items in scraped_data.items():\n",
    "        total = 0\n",
    "        for grocery in user_list:\n",
    "            match = find_cheapest_match(grocery, items)\n",
    "            if match:\n",
    "                total += match['price']\n",
    "            else:\n",
    "                print(f\"{store} missing: {grocery}\")\n",
    "        totals[store] = round(total, 2)\n",
    "    return totals"
   ]
  },
  {
   "cell_type": "code",
   "execution_count": 6,
   "id": "596a3b79-c7fc-46ec-a329-48eef1190323",
   "metadata": {},
   "outputs": [],
   "source": [
    "user_list = [\"eggs\", \"milk\", \"bread\", \"noodles\"]\n",
    "\n",
    "scraped_data = {\n",
    "    \"Hy-Vee\": [\n",
    "        {\"name\": \"Hy-Vee Large Grade A Eggs - 12ct\", \"price\": 2.99},\n",
    "        {\"name\": \"Organic Free-Range Eggs - 18ct\", \"price\": 5.49},\n",
    "        {\"name\": \"2% Milk Gallon\", \"price\": 3.19},\n",
    "        {\"name\": \"Whole Wheat Bread Loaf\", \"price\": 2.49}\n",
    "    ],\n",
    "    \"Aldi\": [\n",
    "        {\"name\": \"Goldhen Grade A Large Eggs - Dozen\", \"price\": 2.69},\n",
    "        {\"name\": \"2% Milk - 1 Gallon\", \"price\": 2.95},\n",
    "        {\"name\": \"Brioche Bread\", \"price\": 2.35}\n",
    "    ]\n",
    "}"
   ]
  },
  {
   "cell_type": "code",
   "execution_count": 7,
   "id": "401d8b4e-0085-4525-802a-e33c9422060a",
   "metadata": {},
   "outputs": [
    {
     "name": "stdout",
     "output_type": "stream",
     "text": [
      "Hy-Vee missing: noodles\n",
      "Aldi missing: noodles\n",
      "Total cost by store: {'Hy-Vee': 8.67, 'Aldi': 7.99}\n"
     ]
    }
   ],
   "source": [
    "totals = compare_totals(user_list, scraped_data)\n",
    "print(\"Total cost by store:\", totals)"
   ]
  },
  {
   "cell_type": "code",
   "execution_count": null,
   "id": "85162036-e647-4d93-b0f6-775dd3a74a30",
   "metadata": {},
   "outputs": [],
   "source": []
  },
  {
   "cell_type": "code",
   "execution_count": null,
   "id": "d419aa9e-a29d-4297-b71f-e258dadf3af7",
   "metadata": {},
   "outputs": [],
   "source": []
  },
  {
   "cell_type": "code",
   "execution_count": null,
   "id": "3a37938a-d083-4217-8f0e-0b396220f3c3",
   "metadata": {},
   "outputs": [],
   "source": []
  },
  {
   "cell_type": "code",
   "execution_count": null,
   "id": "4ba54dc3-b812-4786-9975-2acda6b849c5",
   "metadata": {},
   "outputs": [],
   "source": []
  }
 ],
 "metadata": {
  "kernelspec": {
   "display_name": "Python 3 (ipykernel)",
   "language": "python",
   "name": "python3"
  },
  "language_info": {
   "codemirror_mode": {
    "name": "ipython",
    "version": 3
   },
   "file_extension": ".py",
   "mimetype": "text/x-python",
   "name": "python",
   "nbconvert_exporter": "python",
   "pygments_lexer": "ipython3",
   "version": "3.11.4"
  }
 },
 "nbformat": 4,
 "nbformat_minor": 5
}
