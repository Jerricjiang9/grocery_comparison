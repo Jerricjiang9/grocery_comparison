{
 "cells": [
  {
   "cell_type": "code",
   "execution_count": 1,
   "id": "91481f50-3eb7-4fdc-9c80-61b987ad8fe9",
   "metadata": {},
   "outputs": [],
   "source": [
    "import pandas as pd\n",
    "import numpy as np\n",
    "import re\n",
    "import streamlit as st"
   ]
  },
  {
   "cell_type": "code",
   "execution_count": 2,
   "id": "e579603d-880c-4250-81e7-f902fcec6c63",
   "metadata": {},
   "outputs": [
    {
     "data": {
      "text/html": [
       "<div>\n",
       "<style scoped>\n",
       "    .dataframe tbody tr th:only-of-type {\n",
       "        vertical-align: middle;\n",
       "    }\n",
       "\n",
       "    .dataframe tbody tr th {\n",
       "        vertical-align: top;\n",
       "    }\n",
       "\n",
       "    .dataframe thead th {\n",
       "        text-align: right;\n",
       "    }\n",
       "</style>\n",
       "<table border=\"1\" class=\"dataframe\">\n",
       "  <thead>\n",
       "    <tr style=\"text-align: right;\">\n",
       "      <th></th>\n",
       "      <th>name</th>\n",
       "      <th>price</th>\n",
       "    </tr>\n",
       "  </thead>\n",
       "  <tbody>\n",
       "    <tr>\n",
       "      <th>0</th>\n",
       "      <td>Original Kettle Chips, 8 oz</td>\n",
       "      <td>$1.99</td>\n",
       "    </tr>\n",
       "    <tr>\n",
       "      <th>1</th>\n",
       "      <td>Blueberry Breakfast Biscuits, 5 pack</td>\n",
       "      <td>$3.85</td>\n",
       "    </tr>\n",
       "    <tr>\n",
       "      <th>2</th>\n",
       "      <td>Organic Unrefined Coconut Oil, 14 fl oz</td>\n",
       "      <td>$5.29</td>\n",
       "    </tr>\n",
       "    <tr>\n",
       "      <th>3</th>\n",
       "      <td>Plain Whole Milk Greek Yogurt, 32 oz</td>\n",
       "      <td>$4.15</td>\n",
       "    </tr>\n",
       "    <tr>\n",
       "      <th>4</th>\n",
       "      <td>Parsley Flakes, 0.25 oz</td>\n",
       "      <td>$1.09</td>\n",
       "    </tr>\n",
       "  </tbody>\n",
       "</table>\n",
       "</div>"
      ],
      "text/plain": [
       "                                      name  price\n",
       "0              Original Kettle Chips, 8 oz  $1.99\n",
       "1     Blueberry Breakfast Biscuits, 5 pack  $3.85\n",
       "2  Organic Unrefined Coconut Oil, 14 fl oz  $5.29\n",
       "3     Plain Whole Milk Greek Yogurt, 32 oz  $4.15\n",
       "4                  Parsley Flakes, 0.25 oz  $1.09"
      ]
     },
     "execution_count": 2,
     "metadata": {},
     "output_type": "execute_result"
    }
   ],
   "source": [
    "aldi = pd.read_csv(\"aldi_all_products.csv\")\n",
    "aldi.head()"
   ]
  },
  {
   "cell_type": "code",
   "execution_count": 3,
   "id": "ba15f1af-b3d5-4d2a-8f7f-3cf2fb137afc",
   "metadata": {},
   "outputs": [],
   "source": [
    "#Clean Aldi price column\n",
    "aldi['price'] = aldi['price'].str.replace(\"$\", \"\")\n",
    "aldi['price'] = aldi['price'].astype(\"float64\")"
   ]
  },
  {
   "cell_type": "code",
   "execution_count": 4,
   "id": "df6748d9-80ed-4488-b146-a9efd0d995b1",
   "metadata": {},
   "outputs": [
    {
     "data": {
      "text/html": [
       "<div>\n",
       "<style scoped>\n",
       "    .dataframe tbody tr th:only-of-type {\n",
       "        vertical-align: middle;\n",
       "    }\n",
       "\n",
       "    .dataframe tbody tr th {\n",
       "        vertical-align: top;\n",
       "    }\n",
       "\n",
       "    .dataframe thead th {\n",
       "        text-align: right;\n",
       "    }\n",
       "</style>\n",
       "<table border=\"1\" class=\"dataframe\">\n",
       "  <thead>\n",
       "    <tr style=\"text-align: right;\">\n",
       "      <th></th>\n",
       "      <th>name</th>\n",
       "      <th>price</th>\n",
       "    </tr>\n",
       "  </thead>\n",
       "  <tbody>\n",
       "    <tr>\n",
       "      <th>0</th>\n",
       "      <td>Chocolate Chip Cookies, 12ct</td>\n",
       "      <td>$5.99</td>\n",
       "    </tr>\n",
       "    <tr>\n",
       "      <th>1</th>\n",
       "      <td>Bakery Fresh 12\" Ghirardelli Chocolate Chip Co...</td>\n",
       "      <td>$15.99</td>\n",
       "    </tr>\n",
       "    <tr>\n",
       "      <th>2</th>\n",
       "      <td>Sourdough Artisan Bread</td>\n",
       "      <td>$4.99</td>\n",
       "    </tr>\n",
       "    <tr>\n",
       "      <th>3</th>\n",
       "      <td>French Loaf 2 Count</td>\n",
       "      <td>$3.49</td>\n",
       "    </tr>\n",
       "    <tr>\n",
       "      <th>4</th>\n",
       "      <td>Bakery Fresh Monster Cookies with Ghirardelli ...</td>\n",
       "      <td>$5.99</td>\n",
       "    </tr>\n",
       "  </tbody>\n",
       "</table>\n",
       "</div>"
      ],
      "text/plain": [
       "                                                name   price\n",
       "0                       Chocolate Chip Cookies, 12ct   $5.99\n",
       "1  Bakery Fresh 12\" Ghirardelli Chocolate Chip Co...  $15.99\n",
       "2                            Sourdough Artisan Bread   $4.99\n",
       "3                                French Loaf 2 Count   $3.49\n",
       "4  Bakery Fresh Monster Cookies with Ghirardelli ...   $5.99"
      ]
     },
     "execution_count": 4,
     "metadata": {},
     "output_type": "execute_result"
    }
   ],
   "source": [
    "hyvee = pd.read_csv(\"hyvee_all_products.csv\")\n",
    "hyvee.head()"
   ]
  },
  {
   "cell_type": "code",
   "execution_count": 5,
   "id": "a3142929-39af-4d1b-abaa-2b2d1c552853",
   "metadata": {},
   "outputs": [],
   "source": [
    "def clean_price(raw_price):\n",
    "    if not isinstance(raw_price, str):\n",
    "        return None\n",
    "\n",
    "    raw_price = raw_price.strip().lower()\n",
    "\n",
    "    # Step 1: Convert cents to dollars\n",
    "    cent_match = re.search(r'(\\d+)\\s*¢', raw_price)\n",
    "    if cent_match:\n",
    "        cents = int(cent_match.group(1))\n",
    "        return round(cents / 100, 2)\n",
    "\n",
    "    # Step 2: Convert $X.XX patterns\n",
    "    dollar_match = re.search(r'\\$?(\\d+(?:\\.\\d{1,2})?)', raw_price)\n",
    "    if dollar_match:\n",
    "        return float(dollar_match.group(1))\n",
    "\n",
    "    return None  # fallback if no price found"
   ]
  },
  {
   "cell_type": "code",
   "execution_count": 6,
   "id": "4ac30d02-353c-4746-87ba-55edc4ed9900",
   "metadata": {},
   "outputs": [],
   "source": [
    "hyvee['price'] = hyvee['price'].apply(clean_price)"
   ]
  },
  {
   "cell_type": "code",
   "execution_count": 7,
   "id": "082714c3-42fe-4564-8c6a-e7e7976ecf7a",
   "metadata": {},
   "outputs": [
    {
     "data": {
      "text/html": [
       "<div>\n",
       "<style scoped>\n",
       "    .dataframe tbody tr th:only-of-type {\n",
       "        vertical-align: middle;\n",
       "    }\n",
       "\n",
       "    .dataframe tbody tr th {\n",
       "        vertical-align: top;\n",
       "    }\n",
       "\n",
       "    .dataframe thead th {\n",
       "        text-align: right;\n",
       "    }\n",
       "</style>\n",
       "<table border=\"1\" class=\"dataframe\">\n",
       "  <thead>\n",
       "    <tr style=\"text-align: right;\">\n",
       "      <th></th>\n",
       "      <th>name</th>\n",
       "      <th>price</th>\n",
       "    </tr>\n",
       "  </thead>\n",
       "  <tbody>\n",
       "    <tr>\n",
       "      <th>0</th>\n",
       "      <td>Chocolate Chip Cookies, 12ct</td>\n",
       "      <td>5.99</td>\n",
       "    </tr>\n",
       "    <tr>\n",
       "      <th>1</th>\n",
       "      <td>Bakery Fresh 12\" Ghirardelli Chocolate Chip Co...</td>\n",
       "      <td>15.99</td>\n",
       "    </tr>\n",
       "    <tr>\n",
       "      <th>2</th>\n",
       "      <td>Sourdough Artisan Bread</td>\n",
       "      <td>4.99</td>\n",
       "    </tr>\n",
       "    <tr>\n",
       "      <th>3</th>\n",
       "      <td>French Loaf 2 Count</td>\n",
       "      <td>3.49</td>\n",
       "    </tr>\n",
       "    <tr>\n",
       "      <th>4</th>\n",
       "      <td>Bakery Fresh Monster Cookies with Ghirardelli ...</td>\n",
       "      <td>5.99</td>\n",
       "    </tr>\n",
       "  </tbody>\n",
       "</table>\n",
       "</div>"
      ],
      "text/plain": [
       "                                                name  price\n",
       "0                       Chocolate Chip Cookies, 12ct   5.99\n",
       "1  Bakery Fresh 12\" Ghirardelli Chocolate Chip Co...  15.99\n",
       "2                            Sourdough Artisan Bread   4.99\n",
       "3                                French Loaf 2 Count   3.49\n",
       "4  Bakery Fresh Monster Cookies with Ghirardelli ...   5.99"
      ]
     },
     "execution_count": 7,
     "metadata": {},
     "output_type": "execute_result"
    }
   ],
   "source": [
    "hyvee.head()"
   ]
  },
  {
   "cell_type": "code",
   "execution_count": null,
   "id": "6991b9ef-dfc5-4ad8-ae9d-a633f9563eb6",
   "metadata": {},
   "outputs": [],
   "source": []
  },
  {
   "cell_type": "code",
   "execution_count": null,
   "id": "eb551415-2a2a-40b6-a611-f9acd23d85dc",
   "metadata": {},
   "outputs": [],
   "source": []
  },
  {
   "cell_type": "code",
   "execution_count": 8,
   "id": "148cf4a6-0589-407e-b661-01dcaa6d71e3",
   "metadata": {},
   "outputs": [],
   "source": [
    "def compare_grocery_prices(\n",
    "    shopping_list,\n",
    "    df1,\n",
    "    df2,\n",
    "    name_col='name',\n",
    "    price_col='price',\n",
    "    store_names=('Store 1', 'Store 2')\n",
    "):\n",
    "    total_1 = 0.0\n",
    "    total_2 = 0.0\n",
    "    missing_items = []\n",
    "    comparison_table = []\n",
    "\n",
    "    print(f\"{'Item':<15} | {store_names[0]:<40} | {store_names[1]:<40}\")\n",
    "    print(\"-\" * 110)\n",
    "\n",
    "    for item in shopping_list:\n",
    "        # Find matching rows sorted by price\n",
    "        match_1 = df1[df1[name_col].str.contains(item, case=False, na=False)].sort_values(price_col)\n",
    "        match_2 = df2[df2[name_col].str.contains(item, case=False, na=False)].sort_values(price_col)\n",
    "\n",
    "        row_1 = match_1.iloc[0] if not match_1.empty else None\n",
    "        row_2 = match_2.iloc[0] if not match_2.empty else None\n",
    "\n",
    "        name_1 = row_1[name_col] if row_1 is not None else \"N/A\"\n",
    "        price_1 = row_1[price_col] if row_1 is not None else None\n",
    "\n",
    "        name_2 = row_2[name_col] if row_2 is not None else \"N/A\"\n",
    "        price_2 = row_2[price_col] if row_2 is not None else None\n",
    "\n",
    "        if price_1 is not None:\n",
    "            total_1 += price_1\n",
    "        else:\n",
    "            missing_items.append((item, store_names[0]))\n",
    "\n",
    "        if price_2 is not None:\n",
    "            total_2 += price_2\n",
    "        else:\n",
    "            missing_items.append((item, store_names[1]))\n",
    "\n",
    "        print(f\"{item:<15} | {f'{name_1} (${price_1:.2f})' if price_1 else 'N/A':<40} | {f'{name_2} (${price_2:.2f})' if price_2 else 'N/A':<40}\")\n",
    "\n",
    "        comparison_table.append({\n",
    "            'item': item,\n",
    "            store_names[0] + '_item': name_1,\n",
    "            store_names[0] + '_price': price_1,\n",
    "            store_names[1] + '_item': name_2,\n",
    "            store_names[1] + '_price': price_2,\n",
    "        })\n",
    "\n",
    "    print(\"\\nTOTAL\")\n",
    "    print(f\"{store_names[0]}: ${total_1:.2f}\")\n",
    "    print(f\"{store_names[1]}: ${total_2:.2f}\")\n",
    "\n",
    "    if missing_items:\n",
    "        print(\"\\n⚠️ Missing Items:\")\n",
    "        for item, store in missing_items:\n",
    "            print(f\"- {item} not found in {store}\")\n",
    "\n",
    "    \"\"\"return {\n",
    "        'total_1': round(total_1, 2),\n",
    "        'total_2': round(total_2, 2),\n",
    "        'store_1_name': store_names[0],\n",
    "        'store_2_name': store_names[1],\n",
    "        'item_breakdown': comparison_table,\n",
    "        'missing': missing_items\n",
    "    }\"\"\"\n",
    "    return None\n"
   ]
  },
  {
   "cell_type": "code",
   "execution_count": 9,
   "id": "dbcc62a3-8bed-4909-b298-c015d376658c",
   "metadata": {},
   "outputs": [],
   "source": [
    "shopping_list = [\"milk\", \"eggs\", \"bread\", \"cheese\", \"banana\"]"
   ]
  },
  {
   "cell_type": "code",
   "execution_count": 10,
   "id": "25d40c05-c198-4795-82bf-a5fec65bfae3",
   "metadata": {},
   "outputs": [
    {
     "name": "stdout",
     "output_type": "stream",
     "text": [
      "Item            | Hy-Vee                                   | Aldi                                    \n",
      "--------------------------------------------------------------------------------------------------------------\n",
      "milk            | So Delicious Dairy Free Coconut Milk Blueberry Yogurt Alternative ($1.88) | Evaporated Milk, 12 fl oz ($1.05)       \n",
      "eggs            | Hy-Vee Eggs Hard Cooked 6Ct ($2.00)      | Grade A Large White Eggs, 1 dozen ($2.59)\n",
      "bread           | Hy-Vee White Bread ($1.99)               | Cornbread Stuffing Mix, 6 oz ($1.05)    \n",
      "cheese          | Hy-Vee Original Macaroni & Cheese Dinner ($0.99) | Macaroni and Cheese, 7.25 oz ($0.65)    \n",
      "banana          | Fresh Chiquita Bananas ($0.22)           | Bananas, per lb ($0.17)                 \n",
      "\n",
      "TOTAL\n",
      "Hy-Vee: $7.08\n",
      "Aldi: $5.51\n"
     ]
    }
   ],
   "source": [
    "compare_grocery_prices(shopping_list, hyvee, aldi, store_names=(\"Hy-Vee\", \"Aldi\"))"
   ]
  },
  {
   "cell_type": "code",
   "execution_count": 11,
   "id": "1be42698-ff56-4f92-a6d7-e4569e1317b8",
   "metadata": {},
   "outputs": [
    {
     "name": "stderr",
     "output_type": "stream",
     "text": [
      "2025-10-06 18:15:37.926 WARNING streamlit.runtime.scriptrunner_utils.script_run_context: Thread 'MainThread': missing ScriptRunContext! This warning can be ignored when running in bare mode.\n",
      "2025-10-06 18:15:38.473 \n",
      "  \u001b[33m\u001b[1mWarning:\u001b[0m to view this Streamlit app on a browser, run it with the following\n",
      "  command:\n",
      "\n",
      "    streamlit run C:\\Users\\jerri\\AppData\\Roaming\\Python\\Python313\\site-packages\\ipykernel_launcher.py [ARGUMENTS]\n",
      "2025-10-06 18:15:38.473 Thread 'MainThread': missing ScriptRunContext! This warning can be ignored when running in bare mode.\n",
      "2025-10-06 18:15:38.473 Thread 'MainThread': missing ScriptRunContext! This warning can be ignored when running in bare mode.\n",
      "2025-10-06 18:15:38.474 Thread 'MainThread': missing ScriptRunContext! This warning can be ignored when running in bare mode.\n",
      "2025-10-06 18:15:38.474 Thread 'MainThread': missing ScriptRunContext! This warning can be ignored when running in bare mode.\n",
      "2025-10-06 18:15:38.474 Thread 'MainThread': missing ScriptRunContext! This warning can be ignored when running in bare mode.\n",
      "2025-10-06 18:15:38.476 Thread 'MainThread': missing ScriptRunContext! This warning can be ignored when running in bare mode.\n",
      "2025-10-06 18:15:38.476 Thread 'MainThread': missing ScriptRunContext! This warning can be ignored when running in bare mode.\n",
      "2025-10-06 18:15:38.478 Thread 'MainThread': missing ScriptRunContext! This warning can be ignored when running in bare mode.\n",
      "2025-10-06 18:15:38.479 Thread 'MainThread': missing ScriptRunContext! This warning can be ignored when running in bare mode.\n",
      "2025-10-06 18:15:38.480 Session state does not function when running a script without `streamlit run`\n",
      "2025-10-06 18:15:38.481 Thread 'MainThread': missing ScriptRunContext! This warning can be ignored when running in bare mode.\n",
      "2025-10-06 18:15:38.482 Thread 'MainThread': missing ScriptRunContext! This warning can be ignored when running in bare mode.\n",
      "2025-10-06 18:15:38.483 Thread 'MainThread': missing ScriptRunContext! This warning can be ignored when running in bare mode.\n",
      "2025-10-06 18:15:38.484 Thread 'MainThread': missing ScriptRunContext! This warning can be ignored when running in bare mode.\n",
      "2025-10-06 18:15:38.485 Thread 'MainThread': missing ScriptRunContext! This warning can be ignored when running in bare mode.\n",
      "2025-10-06 18:15:38.486 Thread 'MainThread': missing ScriptRunContext! This warning can be ignored when running in bare mode.\n",
      "2025-10-06 18:15:38.487 Thread 'MainThread': missing ScriptRunContext! This warning can be ignored when running in bare mode.\n",
      "2025-10-06 18:15:38.488 Thread 'MainThread': missing ScriptRunContext! This warning can be ignored when running in bare mode.\n",
      "2025-10-06 18:15:38.489 Thread 'MainThread': missing ScriptRunContext! This warning can be ignored when running in bare mode.\n"
     ]
    }
   ],
   "source": [
    "st.title(\"🛒 Grocery Price Comparison\")\n",
    "\n",
    "st.markdown(\"Enter your grocery list (one item per line):\")\n",
    "input_text = st.text_area(\"Shopping List\", height=200)\n",
    "\n",
    "if st.button(\"Compare Prices\"):\n",
    "    if input_text.strip():\n",
    "        shopping_list = [line.strip() for line in input_text.splitlines() if line.strip()]\n",
    "        result_df, total_hyvee, total_aldi = compare_grocery_prices(shopping_list, df_hyvee, df_aldi)\n",
    "\n",
    "        st.markdown(\"### 🧾 Price Breakdown\")\n",
    "        st.dataframe(result_df, use_container_width=True)\n",
    "\n",
    "        st.markdown(\"### 💵 Total Costs\")\n",
    "        col1, col2 = st.columns(2)\n",
    "        col1.metric(\"Hy-Vee Total\", f\"${total_hyvee:.2f}\")\n",
    "        col2.metric(\"Aldi Total\", f\"${total_aldi:.2f}\")\n",
    "    else:\n",
    "        st.warning(\"Please enter at least one item.\")"
   ]
  },
  {
   "cell_type": "code",
   "execution_count": null,
   "id": "925a5ce5-2d8c-41b3-9130-1a16c5c48963",
   "metadata": {},
   "outputs": [],
   "source": []
  },
  {
   "cell_type": "code",
   "execution_count": null,
   "id": "60e5d894-5b20-4b24-a908-823144192ca8",
   "metadata": {},
   "outputs": [],
   "source": []
  },
  {
   "cell_type": "code",
   "execution_count": null,
   "id": "31cbeece-d61e-46c3-8ff4-4ca646cd8e4c",
   "metadata": {},
   "outputs": [],
   "source": []
  },
  {
   "cell_type": "code",
   "execution_count": null,
   "id": "1330ef8b-d437-4241-9304-f587b2a87166",
   "metadata": {},
   "outputs": [],
   "source": []
  }
 ],
 "metadata": {
  "kernelspec": {
   "display_name": "Python 3.13",
   "language": "python",
   "name": "python313"
  },
  "language_info": {
   "codemirror_mode": {
    "name": "ipython",
    "version": 3
   },
   "file_extension": ".py",
   "mimetype": "text/x-python",
   "name": "python",
   "nbconvert_exporter": "python",
   "pygments_lexer": "ipython3",
   "version": "3.13.1"
  }
 },
 "nbformat": 4,
 "nbformat_minor": 5
}
